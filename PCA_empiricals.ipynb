{
 "cells": [
  {
   "cell_type": "markdown",
   "metadata": {
    "hideCode": true,
    "hidePrompt": true
   },
   "source": [
    "# Principal component analysis - does higher explained variance mean more predictive power? Part 2 - An empirical approach"
   ]
  },
  {
   "cell_type": "markdown",
   "metadata": {
    "hideCode": true,
    "hidePrompt": true
   },
   "source": [
    "### What's this about?\n",
    "In principal component analysis (PCA), we select the PCs with the highest explained variance. As discussed in my previous [article](https://medium.com/digital-alchemist/principal-component-analysis-does-higher-explained-variance-mean-more-predictive-power-f59606ed1e7), I wonder when we use them for prediction, do they actually provide better predictive power?\n",
    "\n",
    "This is an attempt to answer that question empirically. I have acquired 10 datasets with binary target variables from the [UCI Machine Learning Repository](#cite_1). After minimal cleaning, I will perform PCA on them and extract the 5 PCs with the highest explained variance in each of them as a group, and the next 5 PCs as another. \n",
    "\n",
    "For each of these datasets, I'll train an ensemble model with both the \"top 5 PCs\" group and the \"next 5 PCs\" group. Other groups of 5 random raw features (not PCs) will also be trained to provide comparison.\n",
    "\n",
    "The cross validation scores of these groups will be compared to see if the top 5 PCs, with their higher explained variance, actually help the prediction score."
   ]
  },
  {
   "cell_type": "code",
   "execution_count": 15,
   "metadata": {
    "hideCode": true,
    "hidePrompt": true
   },
   "outputs": [],
   "source": [
    "import numpy as np\n",
    "import pandas as pd\n",
    "import matplotlib.pyplot as plt\n",
    "import matplotlib as mpl\n",
    "import warnings\n",
    "from sklearn.preprocessing import StandardScaler\n",
    "from helpers import get_data, do_PCA, cross_validate_ensemble"
   ]
  },
  {
   "cell_type": "code",
   "execution_count": 2,
   "metadata": {
    "hideCode": true,
    "hidePrompt": true
   },
   "outputs": [
    {
     "name": "stdout",
     "output_type": "stream",
     "text": [
      "(Number of observations, number of features) in each dataset:\n",
      "(6598, 166)\n",
      "(287, 62)\n",
      "(303, 57)\n",
      "(4601, 57)\n",
      "(1000, 59)\n",
      "(208, 60)\n",
      "(6118, 51)\n",
      "(1567, 590)\n",
      "(11500, 178)\n",
      "(1848, 72)\n"
     ]
    }
   ],
   "source": [
    "RANDOM_STATE = 42\n",
    "# fetch 10 datasets, split into features and targets, from a helper function\n",
    "x_datas_original, y_datas = get_data()\n",
    "# Number of observations and features in each dataset\n",
    "print('(Number of observations, number of features) in each dataset:')\n",
    "for x_data in x_datas_original:\n",
    "    print(x_data.shape)"
   ]
  },
  {
   "cell_type": "markdown",
   "metadata": {
    "hideCode": true,
    "hidePrompt": true
   },
   "source": [
    "### Datasets \n",
    "\n",
    "In `get_data()` the data is minimally cleaned such that they can be fed into the pipeline without errors. I am not going to spend the time to clean the data thoroughly, check distributions and correlations, or select features. Because we are pitting groups of PCs extracted from the same data against one another, and we care only about the predictions. Anything that hurts the predictive power of one group of PCs is most likely to hurt another group about the same.\n",
    "\n",
    "For the raw data and how the data is processed, check out my [github repo](https://github.com/alfrednfwong/PCA_predictive_power_study)."
   ]
  },
  {
   "cell_type": "code",
   "execution_count": 3,
   "metadata": {
    "code_folding": [],
    "hideCode": true,
    "hidePrompt": true
   },
   "outputs": [],
   "source": [
    "# standardize all the features\n",
    "x_datas_std = []\n",
    "for x_data in x_datas_original:\n",
    "    x_datas_std.append(pd.DataFrame(StandardScaler().fit_transform(x_data)))\n",
    "\n",
    "# generate groups of features for each dataset. \n",
    "# The first two groups come from PCA, with the first being the top 5 principal\n",
    "# components (PCs) and the second the 6th to 10th PCs in terms of explained\n",
    "# variance.\n",
    "# The last 5 are groups of 5 randomly drawn columns from the dataset, without\n",
    "# replacement. They will act as benchmarks for our reference.\n",
    "x_datas_features_groups = []\n",
    "explained_vars_top_5 = []\n",
    "explained_vars_next_5 = []\n",
    "for x_data in x_datas_std:\n",
    "    # get the PCs\n",
    "    _, pc_data, df_explained_var = do_PCA(\n",
    "        10, x_data, random_state=RANDOM_STATE\n",
    "    )\n",
    "    pca_top_5 = pc_data.iloc[:, :5]\n",
    "    pca_next_5 = pc_data.iloc[:, 5:10]\n",
    "    # the index 1 because after the sum() it returns a single entry pd.Series,\n",
    "    # with an index and a value. The index 1 is to extract the value.\n",
    "    explained_vars_top_5.append(df_explained_var[:5].sum()[1])\n",
    "    explained_vars_next_5.append(df_explained_var[5:10].sum()[1])\n",
    "\n",
    "    # get random groups of 5 columns\n",
    "    column_indices = np.array(range(len(x_data.columns)))\n",
    "    np.random.shuffle(column_indices)\n",
    "    rand_features_1 = x_data[column_indices[:5]]\n",
    "    rand_features_2 = x_data[column_indices[5:10]]\n",
    "    rand_features_3 = x_data[column_indices[10:15]]\n",
    "    rand_features_4 = x_data[column_indices[15:20]]\n",
    "    rand_features_5 = x_data[column_indices[20:25]]\n",
    "    \n",
    "    # This will be the various groups of features of one dataset (each group \n",
    "    # to be used in a model instance)\n",
    "    feature_groups = [\n",
    "        pca_top_5, pca_next_5, rand_features_1, rand_features_2, \n",
    "        rand_features_3, rand_features_4, rand_features_5\n",
    "    ]\n",
    "    # This will be the list containing data from all the datasets\n",
    "    x_datas_features_groups.append(feature_groups)"
   ]
  },
  {
   "cell_type": "code",
   "execution_count": 23,
   "metadata": {
    "hideCode": true,
    "hidePrompt": true
   },
   "outputs": [
    {
     "data": {
      "image/png": "[encoded data removed]",
      "text/plain": [
       "<Figure size 576x432 with 1 Axes>"
      ]
     },
     "metadata": {},
     "output_type": "display_data"
    }
   ],
   "source": [
    "fig = plt.figure(figsize=(8, 6))\n",
    "ax = fig.add_subplot(111)\n",
    "width = 0.4\n",
    "ind = np.arange(1, 11)\n",
    "bars1 = plt.bar(\n",
    "    x=ind, height=explained_vars_top_5, width=width, color='#6966D0'\n",
    ")\n",
    "bars2 = plt.bar(\n",
    "    x=ind + width, height=explained_vars_next_5, width=width, color='#B3853F'\n",
    ")\n",
    "ax.set_xticks(ind + width / 2)\n",
    "ax.set_xticklabels(ind)\n",
    "ax.set_ylabel('Explained variance')\n",
    "ax.set_xlabel('Dataset')\n",
    "ax.legend(['Top 5 PCs', 'PCs #6 - #10'])\n",
    "ax.set_title('Explained variance of the two principal component groups')\n",
    "plt.show()"
   ]
  },
  {
   "cell_type": "markdown",
   "metadata": {},
   "source": [
    "Here I've standardized all features and ran PCAs on each dataset, from which I extract two groups of PCs -- the top 5 by the amount of explained variance, and the next 5, ie, 6th to 10th.\n",
    "\n",
    "The top 5 PCs have higher explained variance than the next 5 PCs, by different margins."
   ]
  },
  {
   "cell_type": "markdown",
   "metadata": {
    "hideCode": true,
    "hidePrompt": true
   },
   "source": [
    "### The classifier model\n",
    "Next we'll train an ensemble model on each of these groups of PCs and see which of them score higher in a 10 fold cross validation.\n",
    "The ensemble model will be \"council\" of 4 different classifiers, and the output probability will be the mean of the probability each of them predicts.\n",
    "\n",
    "The classifiers are:\n",
    "1. Support vector machine with an rbf kernel (C=1000)\n",
    "2. Random forest classifier\n",
    "3. Logistic regression\n",
    "4. K nearest neighbors (K=20)\n",
    "\n",
    "I chose to use an ensemble so that if the effects of explained variance somehow only exhibit themselves in certain classifying algorithms, we'll be able to capture it. That is, of course, balanced by the consideration of computational time and the ability to give probability as an output (instead of just a class prediction). \n",
    "\n",
    "Most hyperparameter values are arbitrary, as we can't have a set of to suit all 10 datasets anyway. Also, time spent on exploring the datasets and tuning the hyperparameters are probably better spent on acquiring more datasets -- the number of which I believe to be sufficient as is."
   ]
  },
  {
   "cell_type": "code",
   "execution_count": 5,
   "metadata": {
    "hideCode": true,
    "hidePrompt": true,
    "scrolled": true
   },
   "outputs": [
    {
     "name": "stdout",
     "output_type": "stream",
     "text": [
      "Dataset 0, feature group 0 done.\n",
      "Dataset 0, feature group 1 done.\n",
      "Dataset 0, feature group 2 done.\n",
      "Dataset 0, feature group 3 done.\n",
      "Dataset 0, feature group 4 done.\n",
      "Dataset 0, feature group 5 done.\n",
      "Dataset 0, feature group 6 done.\n",
      "Dataset 1, feature group 0 done.\n",
      "Dataset 1, feature group 1 done.\n",
      "Dataset 1, feature group 2 done.\n",
      "Dataset 1, feature group 3 done.\n",
      "Dataset 1, feature group 4 done.\n",
      "Dataset 1, feature group 5 done.\n",
      "Dataset 1, feature group 6 done.\n",
      "Dataset 2, feature group 0 done.\n",
      "Dataset 2, feature group 1 done.\n",
      "Dataset 2, feature group 2 done.\n",
      "Dataset 2, feature group 3 done.\n",
      "Dataset 2, feature group 4 done.\n",
      "Dataset 2, feature group 5 done.\n",
      "Dataset 2, feature group 6 done.\n",
      "Dataset 3, feature group 0 done.\n",
      "Dataset 3, feature group 1 done.\n",
      "Dataset 3, feature group 2 done.\n",
      "Dataset 3, feature group 3 done.\n",
      "Dataset 3, feature group 4 done.\n",
      "Dataset 3, feature group 5 done.\n",
      "Dataset 3, feature group 6 done.\n",
      "Dataset 4, feature group 0 done.\n",
      "Dataset 4, feature group 1 done.\n",
      "Dataset 4, feature group 2 done.\n",
      "Dataset 4, feature group 3 done.\n",
      "Dataset 4, feature group 4 done.\n",
      "Dataset 4, feature group 5 done.\n",
      "Dataset 4, feature group 6 done.\n",
      "Dataset 5, feature group 0 done.\n",
      "Dataset 5, feature group 1 done.\n",
      "Dataset 5, feature group 2 done.\n",
      "Dataset 5, feature group 3 done.\n",
      "Dataset 5, feature group 4 done.\n",
      "Dataset 5, feature group 5 done.\n",
      "Dataset 5, feature group 6 done.\n",
      "Dataset 6, feature group 0 done.\n",
      "Dataset 6, feature group 1 done.\n",
      "Dataset 6, feature group 2 done.\n",
      "Dataset 6, feature group 3 done.\n",
      "Dataset 6, feature group 4 done.\n",
      "Dataset 6, feature group 5 done.\n",
      "Dataset 6, feature group 6 done.\n",
      "Dataset 7, feature group 0 done.\n",
      "Dataset 7, feature group 1 done.\n",
      "Dataset 7, feature group 2 done.\n",
      "Dataset 7, feature group 3 done.\n",
      "Dataset 7, feature group 4 done.\n",
      "Dataset 7, feature group 5 done.\n",
      "Dataset 7, feature group 6 done.\n",
      "Dataset 8, feature group 0 done.\n",
      "Dataset 8, feature group 1 done.\n",
      "Dataset 8, feature group 2 done.\n",
      "Dataset 8, feature group 3 done.\n",
      "Dataset 8, feature group 4 done.\n",
      "Dataset 8, feature group 5 done.\n",
      "Dataset 8, feature group 6 done.\n",
      "Dataset 9, feature group 0 done.\n",
      "Dataset 9, feature group 1 done.\n",
      "Dataset 9, feature group 2 done.\n",
      "Dataset 9, feature group 3 done.\n",
      "Dataset 9, feature group 4 done.\n",
      "Dataset 9, feature group 5 done.\n",
      "Dataset 9, feature group 6 done.\n"
     ]
    }
   ],
   "source": [
    "# loop thru all datasets and all feature groups, feed each of them into the \n",
    "# model and put the cross validation score into a dataframe\n",
    "warnings.filterwarnings('ignore')\n",
    "df_r = pd.DataFrame()\n",
    "# loop thru all the datasets\n",
    "for i in range(10):\n",
    "    feature_groups_scores = []\n",
    "    #loop thru all the feature groups\n",
    "    for j in range(7):\n",
    "        _, test_score = cross_validate_ensemble(\n",
    "            x_datas_features_groups[i][j], y_data=y_datas[i],\n",
    "            num_folds=10, random_state=RANDOM_STATE\n",
    "        )\n",
    "        feature_groups_scores.append(test_score)\n",
    "        print(f'Dataset {i}, feature group {j} done.')\n",
    "    # the mean of the 3rd to 7th columns will be the mean score for the groups\n",
    "    # of 5 random features\n",
    "    rand_features_mean_score = np.mean(feature_groups_scores[2:7])\n",
    "    df_r = df_r.append(\n",
    "        [[*feature_groups_scores[0:2], rand_features_mean_score]]\n",
    "    )\n",
    "\n",
    "df_r.columns = ['top_5_PCs', 'next_5_PCs', 'rand_features_mean']\n",
    "df_r = df_r.reset_index(drop=True)\n",
    "df_r.index.name = 'dataset'\n",
    "df_r.index += 1\n",
    "df_r['top_5_wins'] = df_r.top_5_PCs > df_r.next_5_PCs\n"
   ]
  },
  {
   "cell_type": "markdown",
   "metadata": {},
   "source": [
    "### Results"
   ]
  },
  {
   "cell_type": "code",
   "execution_count": 22,
   "metadata": {},
   "outputs": [
    {
     "data": {
      "text/html": [
       "<div>\n",
       "<style scoped>\n",
       "    .dataframe tbody tr th:only-of-type {\n",
       "        vertical-align: middle;\n",
       "    }\n",
       "\n",
       "    .dataframe tbody tr th {\n",
       "        vertical-align: top;\n",
       "    }\n",
       "\n",
       "    .dataframe thead th {\n",
       "        text-align: right;\n",
       "    }\n",
       "</style>\n",
       "<table border=\"1\" class=\"dataframe\">\n",
       "  <thead>\n",
       "    <tr style=\"text-align: right;\">\n",
       "      <th></th>\n",
       "      <th>top_5_PCs</th>\n",
       "      <th>next_5_PCs</th>\n",
       "      <th>rand_features_mean</th>\n",
       "      <th>top_5_wins</th>\n",
       "    </tr>\n",
       "    <tr>\n",
       "      <th>dataset</th>\n",
       "      <th></th>\n",
       "      <th></th>\n",
       "      <th></th>\n",
       "      <th></th>\n",
       "    </tr>\n",
       "  </thead>\n",
       "  <tbody>\n",
       "    <tr>\n",
       "      <th>1</th>\n",
       "      <td>0.853547</td>\n",
       "      <td>0.813861</td>\n",
       "      <td>0.828521</td>\n",
       "      <td>True</td>\n",
       "    </tr>\n",
       "    <tr>\n",
       "      <th>2</th>\n",
       "      <td>0.588359</td>\n",
       "      <td>0.521433</td>\n",
       "      <td>0.582490</td>\n",
       "      <td>True</td>\n",
       "    </tr>\n",
       "    <tr>\n",
       "      <th>3</th>\n",
       "      <td>0.815305</td>\n",
       "      <td>0.635354</td>\n",
       "      <td>0.525002</td>\n",
       "      <td>True</td>\n",
       "    </tr>\n",
       "    <tr>\n",
       "      <th>4</th>\n",
       "      <td>0.919686</td>\n",
       "      <td>0.838280</td>\n",
       "      <td>0.753254</td>\n",
       "      <td>True</td>\n",
       "    </tr>\n",
       "    <tr>\n",
       "      <th>5</th>\n",
       "      <td>0.803115</td>\n",
       "      <td>0.702904</td>\n",
       "      <td>0.750828</td>\n",
       "      <td>True</td>\n",
       "    </tr>\n",
       "    <tr>\n",
       "      <th>6</th>\n",
       "      <td>0.846878</td>\n",
       "      <td>0.663673</td>\n",
       "      <td>0.687769</td>\n",
       "      <td>True</td>\n",
       "    </tr>\n",
       "    <tr>\n",
       "      <th>7</th>\n",
       "      <td>0.815900</td>\n",
       "      <td>0.797683</td>\n",
       "      <td>0.789146</td>\n",
       "      <td>True</td>\n",
       "    </tr>\n",
       "    <tr>\n",
       "      <th>8</th>\n",
       "      <td>0.500000</td>\n",
       "      <td>0.500000</td>\n",
       "      <td>0.500000</td>\n",
       "      <td>False</td>\n",
       "    </tr>\n",
       "    <tr>\n",
       "      <th>9</th>\n",
       "      <td>0.919262</td>\n",
       "      <td>0.858752</td>\n",
       "      <td>0.860091</td>\n",
       "      <td>True</td>\n",
       "    </tr>\n",
       "    <tr>\n",
       "      <th>10</th>\n",
       "      <td>0.509437</td>\n",
       "      <td>0.500000</td>\n",
       "      <td>0.501317</td>\n",
       "      <td>True</td>\n",
       "    </tr>\n",
       "  </tbody>\n",
       "</table>\n",
       "</div>"
      ],
      "text/plain": [
       "         top_5_PCs  next_5_PCs  rand_features_mean  top_5_wins\n",
       "dataset                                                       \n",
       "1         0.853547    0.813861            0.828521        True\n",
       "2         0.588359    0.521433            0.582490        True\n",
       "3         0.815305    0.635354            0.525002        True\n",
       "4         0.919686    0.838280            0.753254        True\n",
       "5         0.803115    0.702904            0.750828        True\n",
       "6         0.846878    0.663673            0.687769        True\n",
       "7         0.815900    0.797683            0.789146        True\n",
       "8         0.500000    0.500000            0.500000       False\n",
       "9         0.919262    0.858752            0.860091        True\n",
       "10        0.509437    0.500000            0.501317        True"
      ]
     },
     "execution_count": 22,
     "metadata": {},
     "output_type": "execute_result"
    }
   ],
   "source": [
    "df_r"
   ]
  },
  {
   "cell_type": "markdown",
   "metadata": {},
   "source": [
    "For each dataset, 5 groups of 5 random raw features are drawn (ie, before PCA). Each group is trained in the model and the cross validation score is computed, and then the mean score for all the groups will be the score for \"rand_features_mean\" for that dataset.\n",
    "\n",
    "We can see that the model on datasets 8 and 10 has barely any predictive power. After getting the results I've checked and found that the target variables in them are very unbalanced and that was part of the cause. If I take any remedy measures now, say by class-balanced resampling, after I've seen the results, I might be doing something similar to p-hacking. I decide to leave them as they are."
   ]
  },
  {
   "cell_type": "code",
   "execution_count": 19,
   "metadata": {
    "scrolled": false
   },
   "outputs": [
    {
     "data": {
      "image/png": "[encoded data removed]",
      "text/plain": [
       "<Figure size 576x432 with 1 Axes>"
      ]
     },
     "metadata": {},
     "output_type": "display_data"
    }
   ],
   "source": [
    "target_proportions = []\n",
    "for i in range(10):\n",
    "    target_proportions.append(sum(y_datas[i] / len(y_datas[i])))\n",
    "fig = plt.figure(figsize=(8, 6))\n",
    "ax = fig.add_subplot(111)\n",
    "width = 0.7\n",
    "ind = np.arange(1, 11)\n",
    "bars1 = plt.bar(\n",
    "    x=ind, height=1, width=width, color='#B9B470'\n",
    ")\n",
    "bars2 = plt.bar(\n",
    "    x=ind, height=target_proportions, width=width, color='#D089C6'\n",
    ")\n",
    "ax.set_xticks(ind)\n",
    "ax.set_xticklabels(ind)\n",
    "ax.set_ylabel('Proportion of target data')\n",
    "ax.set_xlabel('Dataset')\n",
    "ax.legend(['0 or False', '1 or True'], framealpha=1)\n",
    "ax.set_title('Class proportions of the target variable')\n",
    "plt.show()"
   ]
  },
  {
   "cell_type": "markdown",
   "metadata": {
    "hideCode": true,
    "hidePrompt": true
   },
   "source": [
    "The model on datasets 8 and 10 has barely any predictive power. After getting the results I've checked and found that the target variables in them are very unbalanced and that was part of the cause. I haven't done anything to balance output classes and in the ensemble. But if I do now, say by class-balanced resampling, after I've seen the results, I might be doing something similar to p-hacking. I decide to leave them as they are."
   ]
  },
  {
   "cell_type": "markdown",
   "metadata": {},
   "source": [
    "### Interpretation"
   ]
  },
  {
   "cell_type": "code",
   "execution_count": 18,
   "metadata": {
    "hideCode": true,
    "hidePrompt": true,
    "scrolled": false
   },
   "outputs": [
    {
     "data": {
      "image/png": "[encoded data removed]",
      "text/plain": [
       "<Figure size 576x432 with 1 Axes>"
      ]
     },
     "metadata": {},
     "output_type": "display_data"
    }
   ],
   "source": [
    "fig = plt.figure(figsize=(8, 6))\n",
    "ax = fig.add_subplot(111)\n",
    "width = 0.25\n",
    "ind = np.arange(1, 11)\n",
    "bars1 = plt.bar(\n",
    "    x=ind - width, height=df_r.top_5_PCs, width=width, color='#6966D0'\n",
    ")\n",
    "bars2 = plt.bar(\n",
    "    x=ind, height=df_r.next_5_PCs, width=width, color='#B3853F'\n",
    ")\n",
    "bars3 = plt.bar(\n",
    "    x=ind + width, height=df_r.rand_features_mean, width=width, color='#FCBDD6'\n",
    ")\n",
    "ax.set_xticks(ind)\n",
    "ax.set_xticklabels(ind)\n",
    "ax.set_ylabel('AUC score')\n",
    "ax.set_xlabel('Dataset')\n",
    "ax.set_title('Predictive power of different PC/feature groups')\n",
    "ax.legend(\n",
    "    ['Top 5 PCs', 'PCs #6 - #10', '5 random features'], loc=4, framealpha=1\n",
    ")\n",
    "ax.set_ylim(0, 1.1)\n",
    "ax.set_yticks(np.arange(0, 1.1, 0.1))\n",
    "plt.show()"
   ]
  },
  {
   "cell_type": "markdown",
   "metadata": {
    "hideCode": true,
    "hidePrompt": true
   },
   "source": [
    "So it looks like higher explained variance does come with more predictive power. In all but one of our datasets, the 5 principal components with the highest explained variance outperform the next 5 principal components. They also outperform the groups of 5 random features.\n",
    "\n",
    "The probability of X >= 9 if X follows a binomial distribution Bin(10, 0.5) is 0.0107. That means in the following **imaginary** case:\n",
    "1. the datasets I collected were representative of all datasets in the world, and,\n",
    "2. the problems associated with these datasets are representative of all machine learning problems in the world, and,\n",
    "3. the classification algorithms and hyperparameters are representative of all algorithms and hyperparameters in the world,\n",
    "\n",
    "we could say that at alpha level 0.05, we reject H0: Explained variance in a principal component is unrelated to predictive power, in favor of H1: Higher explained variance does come with higher predictive power. And we missed alpha level 0.01 by just a hair.\n",
    "\n",
    "Although none of the cases above are true and this is not a scientific study by any means, if I were offered even odds, I would bet that picking the top PCs do help."
   ]
  },
  {
   "cell_type": "markdown",
   "metadata": {
    "hideCode": true,
    "hidePrompt": true
   },
   "source": [
    "### Conclusion\n",
    "This problem had been bugging me since the first day I learnt PCA. I couldn't get any proof from my instructors, mentors, knowledgeable friends and the almighty google as to why picking the top PCs means retaining the most predictive power in the features. Some say it's just another thing for you to try and see if the test scores come out better, others say it's empirical, yet none offered any evidence, mathematical or empirical.\n",
    "\n",
    "From what we've seen I think we can say with some certainty that choosing to maximize explained variance in PCA helps in prediction studies. \n",
    "\n",
    "Of course, that is not to say my findings are definitive. This study has many limitations, such as:\n",
    "1. limited number and diversity of datasets,\n",
    "2. only binary classification problems are studied,\n",
    "3. only a handful of classification algorithms are used. Deep learning, in particular, is not included.\n",
    "\n",
    "But at least, this study puts the inquisitive me to rest, for now.\n",
    "\n",
    "For the code please check out my [github repo](https://github.com/alfrednfwong/PCA_predictive_power_study)."
   ]
  },
  {
   "cell_type": "markdown",
   "metadata": {
    "hideCode": true,
    "hidePrompt": true
   },
   "source": [
    "### Data sources\n",
    "\n",
    "All the datasets are obtained from the UCI Machine Learning Repository:\n",
    "\n",
    "<a id='cite_1'></a>Dua, D. and Karra Taniskidou, E. (2017). UCI Machine Learning Repository [ http://archive.ics.uci.edu/ml ]. Irvine, CA: University of California, School of Information and Computer Science.\n",
    "\n",
    "Dataset 1: [The Musk (Version 2) Dataset](https://archive.ics.uci.edu/ml/datasets/Musk+%28Version+2%29)\n",
    "\n",
    "Dataset 2: [Quality Assessment of Digital Colposcopies Data Set](https://archive.ics.uci.edu/ml/datasets/Quality+Assessment+of+Digital+Colposcopies). \n",
    "\n",
    "\n",
    "Dataset 3: [Z-Alizadeh Sani Data Set](https://archive.ics.uci.edu/ml/datasets/Z-Alizadeh+Sani).\n",
    "\n",
    "Dataset 4: [Spambase Data Set](https://archive.ics.uci.edu/ml/datasets/Spambase)\n",
    "\n",
    "Dataset 5: [Sports articles for objectivity analysis Data Set](https://archive.ics.uci.edu/ml/datasets/Sports+articles+for+objectivity+analysis).\n",
    "\n",
    "Dataset 6: [Connectionist Bench (Sonar, Mines vs. Rocks) Data Set](https://archive.ics.uci.edu/ml/datasets/Connectionist+Bench+%28Sonar%2C+Mines+vs.+Rocks%29)\n",
    "\n",
    "Dataset 7: [First-order theorem proving Data Set](https://archive.ics.uci.edu/ml/datasets/First-order+theorem+proving)\n",
    "\n",
    "Dataset 8: [SECOM Data Set](https://archive.ics.uci.edu/ml/datasets/SECOM)\n",
    "\n",
    "Dataset 9: [Epileptic Seizure Recognition Data Set](https://archive.ics.uci.edu/ml/datasets/Epileptic+Seizure+Recognition), also available [here](http://epileptologie-bonn.de/cms/front_content.php?idcat=193&lang=3&changelang=3)\n",
    "\n",
    "Dataset 10: [Ozone Level Detection Data Set](https://archive.ics.uci.edu/ml/datasets/Ozone+Level+Detection)\n",
    "\n"
   ]
  }
 ],
 "metadata": {
  "hide_code_all_hidden": true,
  "kernelspec": {
   "display_name": "Python 3",
   "language": "python",
   "name": "python3"
  },
  "language_info": {
   "codemirror_mode": {
    "name": "ipython",
    "version": 3
   },
   "file_extension": ".py",
   "mimetype": "text/x-python",
   "name": "python",
   "nbconvert_exporter": "python",
   "pygments_lexer": "ipython3",
   "version": "3.6.5"
  }
 },
 "nbformat": 4,
 "nbformat_minor": 2
}
